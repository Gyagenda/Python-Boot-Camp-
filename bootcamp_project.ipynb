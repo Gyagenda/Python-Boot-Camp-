{
 "cells": [
  {
   "cell_type": "markdown",
   "metadata": {},
   "source": [
    "#  nba_rosters_2017_18\n",
    "Malcolm J Gyagenda \n",
    "June 06, 20115 "
   ]
  },
  {
   "cell_type": "markdown",
   "metadata": {},
   "source": [
    "# Background \n",
    " I hope to learn how to use set up histograms, scatter plots, and also use simple statistics functions like min, max, standrad deviation in python \n",
    " I also hope to learn how to create and update repositories using data from the National Basketball Association which includes height, weight, team, birht city and jersey number "
   ]
  },
  {
   "cell_type": "markdown",
   "metadata": {},
   "source": [
    "# Data"
   ]
  },
  {
   "cell_type": "markdown",
   "metadata": {},
   "source": [
    "The variables of interest are weight of the player and the age of the player. How the old the player is versus how much they weigh. Do the older players weight more than the younger ones and viceversa"
   ]
  },
  {
   "cell_type": "code",
   "execution_count": 124,
   "metadata": {},
   "outputs": [
    {
     "name": "stdout",
     "output_type": "stream",
     "text": [
      "Series([], dtype: float64)\n",
      "   Player_ID LastName FirstName  Jersey_Num Position Height  Weight  \\\n",
      "0      10138  Abrines      Alex         8.0       SG   6'6\"   190.0   \n",
      "1       9466      Acy    Quincy        13.0       PF   6'7\"   240.0   \n",
      "2       9301    Adams    Jordan         3.0       SG   6'5\"   209.0   \n",
      "3       9390    Adams    Steven        12.0        C   7'0\"   255.0   \n",
      "4      13742  Adebayo       Bam        13.0        C  6'10\"   255.0   \n",
      "\n",
      "  Birth_Date  Age         Birth_City Birth_Country Rookie  Team_ID Team_Abbr.  \\\n",
      "0   8/1/1993   24  Palma de Mallorca         Spain      N     96.0        OKL   \n",
      "1  10/6/1990   27          Tyler, TX           USA      N     84.0        BRO   \n",
      "2   7/8/1994   23        Atlanta, GA           USA      N      NaN        NaN   \n",
      "3  7/20/1993   24            Rotorua   New Zealand      N     96.0        OKL   \n",
      "4  7/18/1997   20         Newark, NJ           USA      Y     92.0        MIA   \n",
      "\n",
      "       Team_City Team_Name  \n",
      "0  Oklahoma City   Thunder  \n",
      "1       Brooklyn      Nets  \n",
      "2            NaN       NaN  \n",
      "3  Oklahoma City   Thunder  \n",
      "4          Miami      Heat  \n",
      "Observations 682\n"
     ]
    }
   ],
   "source": [
    "import pandas as pd \n",
    "import numpy as np \n",
    "\n",
    "s=pd.Series()\n",
    "print(s)\n",
    "nba=pd.read_csv(\"nba_rosters_2017_18.csv\")\n",
    "\n",
    "#age and weight of basketball players greater than zero \n",
    "nba_sub=nba[nba[\"Age\"]>0 & (nba['Weight']>0)]\n",
    "\n",
    "#weight of the basketball players greater than zero \n",
    "#nba_sub1=nba[nba[\"Weight\"]>0]\n",
    "print(nba_sub.head())\n",
    "print(\"Observations\",len(nba_sub))"
   ]
  },
  {
   "cell_type": "code",
   "execution_count": 125,
   "metadata": {},
   "outputs": [
    {
     "name": "stdout",
     "output_type": "stream",
     "text": [
      "   Player_ID  LastName FirstName  Jersey_Num Position Height  Weight  \\\n",
      "0      10138   Abrines      Alex         8.0       SG   6'6\"   190.0   \n",
      "1       9466       Acy    Quincy        13.0       PF   6'7\"   240.0   \n",
      "2       9301     Adams    Jordan         3.0       SG   6'5\"   209.0   \n",
      "3       9390     Adams    Steven        12.0        C   7'0\"   255.0   \n",
      "4      13742   Adebayo       Bam        13.0        C  6'10\"   255.0   \n",
      "5       9375   Afflalo     Arron         4.0       SG   6'5\"   210.0   \n",
      "6       9357    Ajinca    Alexis        42.0        C   7'2\"   248.0   \n",
      "7       9272   Aldrich      Cole        45.0        C  6'11\"   253.0   \n",
      "8       9480  Aldridge  LaMarcus        12.0       PF  6'11\"   260.0   \n",
      "9       9299     Allen      Tony        24.0       SF   6'4\"   213.0   \n",
      "\n",
      "   Birth_Date  Age         Birth_City Birth_Country Rookie  Team_ID  \\\n",
      "0    8/1/1993   24  Palma de Mallorca         Spain      N     96.0   \n",
      "1   10/6/1990   27          Tyler, TX           USA      N     84.0   \n",
      "2    7/8/1994   23        Atlanta, GA           USA      N      NaN   \n",
      "3   7/20/1993   24            Rotorua   New Zealand      N     96.0   \n",
      "4   7/18/1997   20         Newark, NJ           USA      Y     92.0   \n",
      "5  10/15/1985   32    Los Angeles, CA           USA      N     95.0   \n",
      "6    5/6/1988   30      Saint-Etienne        France      N    110.0   \n",
      "7  10/31/1988   29     Burnsville, MN           USA      N    100.0   \n",
      "8   7/19/1985   32         Dallas, TX           USA      N    106.0   \n",
      "9   1/10/1982   36        Chicago, IL           USA      N     89.0   \n",
      "\n",
      "  Team_Abbr.      Team_City     Team_Name  \n",
      "0        OKL  Oklahoma City       Thunder  \n",
      "1        BRO       Brooklyn          Nets  \n",
      "2        NaN            NaN           NaN  \n",
      "3        OKL  Oklahoma City       Thunder  \n",
      "4        MIA          Miami          Heat  \n",
      "5        ORL        Orlando         Magic  \n",
      "6        NOP    New Orleans      Pelicans  \n",
      "7        MIN      Minnesota  Timberwolves  \n",
      "8        SAS    San Antonio         Spurs  \n",
      "9        CHI        Chicago         Bulls  \n"
     ]
    }
   ],
   "source": [
    "print(nba_sub[:10])"
   ]
  },
  {
   "cell_type": "code",
   "execution_count": 126,
   "metadata": {},
   "outputs": [
    {
     "name": "stdout",
     "output_type": "stream",
     "text": [
      "0      190.0\n",
      "1      240.0\n",
      "2      209.0\n",
      "3      255.0\n",
      "4      255.0\n",
      "5      210.0\n",
      "6      248.0\n",
      "7      253.0\n",
      "8      260.0\n",
      "9      213.0\n",
      "10     200.0\n",
      "11     234.0\n",
      "12     260.0\n",
      "13     220.0\n",
      "14     220.0\n",
      "15       NaN\n",
      "16     230.0\n",
      "17     220.0\n",
      "18     213.0\n",
      "19     240.0\n",
      "20     230.0\n",
      "21     262.0\n",
      "22       NaN\n",
      "23     222.0\n",
      "24     245.0\n",
      "25     240.0\n",
      "26     235.0\n",
      "27       NaN\n",
      "28     195.0\n",
      "29     215.0\n",
      "       ...  \n",
      "694    230.0\n",
      "695    237.0\n",
      "696    200.0\n",
      "697    175.0\n",
      "698    265.0\n",
      "699      NaN\n",
      "700      NaN\n",
      "701    236.0\n",
      "702      NaN\n",
      "703    240.0\n",
      "704    225.0\n",
      "705      NaN\n",
      "706      NaN\n",
      "707    220.0\n",
      "708    260.0\n",
      "709    235.0\n",
      "710    190.0\n",
      "711    260.0\n",
      "712    215.0\n",
      "713    230.0\n",
      "714      NaN\n",
      "715    185.0\n",
      "716    210.0\n",
      "717    250.0\n",
      "718    240.0\n",
      "719    210.0\n",
      "720    240.0\n",
      "721    226.0\n",
      "722    250.0\n",
      "723    240.0\n",
      "Name: Weight, Length: 682, dtype: float64\n",
      "0      24\n",
      "1      27\n",
      "2      23\n",
      "3      24\n",
      "4      20\n",
      "5      32\n",
      "6      30\n",
      "7      29\n",
      "8      32\n",
      "9      36\n",
      "10     25\n",
      "11     20\n",
      "12     29\n",
      "13     27\n",
      "14     35\n",
      "15     39\n",
      "16     24\n",
      "17     35\n",
      "18     29\n",
      "19     30\n",
      "20     24\n",
      "21     19\n",
      "22     25\n",
      "23     23\n",
      "24     35\n",
      "25     34\n",
      "26     20\n",
      "27     26\n",
      "28     24\n",
      "29     32\n",
      "       ..\n",
      "694    28\n",
      "695    31\n",
      "696    33\n",
      "697    31\n",
      "698    25\n",
      "699    31\n",
      "700    24\n",
      "701    22\n",
      "702    27\n",
      "703    25\n",
      "704    22\n",
      "705    28\n",
      "706    27\n",
      "707    22\n",
      "708    38\n",
      "709    30\n",
      "710    26\n",
      "711    22\n",
      "712    22\n",
      "713    29\n",
      "714    23\n",
      "715    25\n",
      "716    33\n",
      "717    28\n",
      "718    25\n",
      "719    22\n",
      "720    21\n",
      "721    24\n",
      "722    21\n",
      "723    21\n",
      "Name: Age, Length: 682, dtype: int64\n"
     ]
    }
   ],
   "source": [
    "print(nba_sub[\"Weight\"])\n",
    "\n",
    "print(nba_sub[\"Age\"]) "
   ]
  },
  {
   "cell_type": "markdown",
   "metadata": {},
   "source": [
    "# Summary statistics for Age  "
   ]
  },
  {
   "cell_type": "code",
   "execution_count": 127,
   "metadata": {},
   "outputs": [
    {
     "name": "stdout",
     "output_type": "stream",
     "text": [
      "count    682.000000\n",
      "mean      27.211144\n",
      "std        4.552773\n",
      "min       19.000000\n",
      "25%       24.000000\n",
      "50%       26.000000\n",
      "75%       30.000000\n",
      "max       42.000000\n",
      "Name: Age, dtype: float64\n"
     ]
    }
   ],
   "source": [
    "print(nba_sub[\"Age\"].describe())"
   ]
  },
  {
   "cell_type": "markdown",
   "metadata": {},
   "source": [
    "# Summary Statistics for Weight "
   ]
  },
  {
   "cell_type": "code",
   "execution_count": 128,
   "metadata": {},
   "outputs": [
    {
     "name": "stdout",
     "output_type": "stream",
     "text": [
      "count     10.000000\n",
      "mean     233.300000\n",
      "std       25.219261\n",
      "min      190.000000\n",
      "25%      210.750000\n",
      "50%      244.000000\n",
      "75%      254.500000\n",
      "max      260.000000\n",
      "Name: Weight, dtype: float64\n"
     ]
    }
   ],
   "source": [
    "print(nba_sub[\"Weight\"][:10].describe())"
   ]
  },
  {
   "cell_type": "code",
   "execution_count": 129,
   "metadata": {},
   "outputs": [
    {
     "name": "stdout",
     "output_type": "stream",
     "text": [
      "82\n"
     ]
    }
   ],
   "source": [
    "#print(type(Weight))\n",
    "Weight=(nba_sub[\"Weight\"])\n",
    "print(sum(Weight.isnull()))\n"
   ]
  },
  {
   "cell_type": "code",
   "execution_count": 130,
   "metadata": {},
   "outputs": [
    {
     "name": "stdout",
     "output_type": "stream",
     "text": [
      "0\n"
     ]
    }
   ],
   "source": [
    "Age=(nba_sub[\"Age\"])\n",
    "print(sum(Age.isnull()))"
   ]
  },
  {
   "cell_type": "code",
   "execution_count": 5,
   "metadata": {
    "scrolled": false
   },
   "outputs": [
    {
     "data": {
      "image/png": "[encoded data removed]",
      "text/plain": [
       "<Figure size 432x288 with 1 Axes>"
      ]
     },
     "metadata": {},
     "output_type": "display_data"
    }
   ],
   "source": [
    "import numpy as np \n",
    "import pandas as pd\n",
    "import matplotlib as mpl\n",
    "import matplotlib.pyplot as plt\n",
    "import matplotlib .axes as ax\n",
    "%matplotlib inline\n",
    "\n",
    "nba_sub=nba[nba[\"Age\"]>0 & (nba['Weight']>0)]\n",
    "\n",
    "\n",
    "Age=nba_sub['Age']\n",
    "AgeHist=plt.figure()\n",
    "plt.hist(Age, bins=10)\n",
    "plt.title(\" Histogram for Age of the basketball players\")\n",
    "plt.show()\n",
    "AgeHist.savefig(\"Age_Histogram.png\")\n"
   ]
  },
  {
   "cell_type": "code",
   "execution_count": 162,
   "metadata": {},
   "outputs": [
    {
     "data": {
      "image/png": "[encoded data removed]",
      "text/plain": [
       "<Figure size 432x288 with 1 Axes>"
      ]
     },
     "metadata": {},
     "output_type": "display_data"
    }
   ],
   "source": [
    "Weight=nba_sub1[\"Weight\"]\n",
    "WeightHist=plt.figure()\n",
    "plt.hist(Weight, bins=10)\n",
    "plt.title(\" Histogram for Weight of the basketball players\")\n",
    "plt.show()\n",
    "WeightHist.savefig(\"Weight_Histogram.png\")"
   ]
  },
  {
   "cell_type": "code",
   "execution_count": 10,
   "metadata": {},
   "outputs": [
    {
     "data": {
      "text/plain": [
       "Text(0,0.5,'Age')"
      ]
     },
     "execution_count": 10,
     "metadata": {},
     "output_type": "execute_result"
    },
    {
     "data": {
      "image/png": "[encoded data removed]",
      "text/plain": [
       "<Figure size 432x288 with 1 Axes>"
      ]
     },
     "metadata": {},
     "output_type": "display_data"
    }
   ],
   "source": [
    "nba=pd.read_csv(\"nba_rosters_2017_18.csv\")\n",
    "nba_sub=nba[nba[\"Age\"]>0 & (nba['Weight']>0)]\n",
    "\n",
    "#nba=nba[['Age','Weight']].dropna()\n",
    "nba.head()\n",
    "Age_Weight_scatter=plt.figure()\n",
    "plt.scatter(nba_sub['Age'],nba_sub['Weight'])\n",
    "plt.title(\"Weight vs Scatter\")\n",
    "plt.xlabel(\"Weight\")\n",
    "plt.ylabel(\"Age\")\n",
    "\n",
    "\n"
   ]
  },
  {
   "cell_type": "markdown",
   "metadata": {},
   "source": [
    "# Analysis \n"
   ]
  },
  {
   "cell_type": "markdown",
   "metadata": {},
   "source": [
    "Hypothesis test that the he mean weight for younger(< 30)  basketball players is more than  the older (>30 ) basketball players )\n",
    "\n",
    "Alternative hypothesis( the mean weight  20 <age < 29 year old basketball players is not eqaul to 30 < age< 40 basketball players  mean weight) \n",
    "\n",
    "\n",
    "Null hypothesis ( the mean weight for younger(< 30)  basketball players is equal to the older (>30 ) basketball players )\n"
   ]
  },
  {
   "cell_type": "code",
   "execution_count": 114,
   "metadata": {
    "scrolled": true
   },
   "outputs": [
    {
     "name": "stdout",
     "output_type": "stream",
     "text": [
      "Mean weight of players under 30      218.0431818181818\n",
      "Mean weight of players above 30      223.42307692307693\n",
      "Variance weight of players  under 30  603.3594989669422\n",
      "Variance Weight of players above 30   729.0594674556213\n",
      "Observations 130\n",
      "Observations 440\n"
     ]
    }
   ],
   "source": [
    "young_sample=nba_sub[nba_sub['Age']<30] #players below 30 \n",
    "young_sample.describe() # statistics summary for the players above 30 \n",
    "Weight_young=young_sample['Weight'] #Weight of the players below 30 \n",
    "old_sample=nba_sub[nba_sub['Age']>30] # players above 30 \n",
    "Weight_old=old_sample['Weight']# weight of the players above 30 \n",
    "#print([Weight_young])\n",
    "#print(young_sample[\"Weight\"])\n",
    "#print(young_sample[\"Age\"])\n",
    "print(\"Mean weight of players under 30     \",np.mean(Weight_young))\n",
    "print(\"Mean weight of players above 30     \",np.mean(Weight_old))\n",
    "print(\"Variance weight of players  under 30 \",np.var(Weight_young))\n",
    "print(\"Variance Weight of players above 30  \", np.var(Weight_old))\n",
    "print(\"Observations\", len(old_sample))\n",
    "print(\"Observations\", len(young_sample))\n",
    "#print(\"Young Sample Mean weight\",np.mean(young_sample))\n",
    "#y_wt_mean=np.mean(young_sample('Weight'))"
   ]
  },
  {
   "cell_type": "code",
   "execution_count": 116,
   "metadata": {},
   "outputs": [
    {
     "name": "stdout",
     "output_type": "stream",
     "text": [
      "sample difference -5.379895104895127\n",
      "Expected population difference 0\n",
      "standard Error 2.3751267155944173\n"
     ]
    }
   ],
   "source": [
    "Mean_young= np.mean(Weight_young)\n",
    "Variance_young=np.var(Weight_young)\n",
    "n_young= 130\n",
    "\n",
    "Mean_old=np.mean(Weight_old)\n",
    "Variance_old=np.var(Weight_old)\n",
    "n_old=440\n",
    "\n",
    "obs_diff=Mean_young-Mean_old\n",
    "\n",
    "exp_diff=0\n",
    "\n",
    "vny=(Variance_young)/n_young\n",
    "vno=(Variance_old)/Variance_old\n",
    "std_err=np.sqrt(vny+vno)\n",
    "\n",
    "print(\"sample difference\",obs_diff)\n",
    "print(\"Expected population difference\",exp_diff)\n",
    "print(\"standard Error\",std_err)"
   ]
  },
  {
   "cell_type": "code",
   "execution_count": 117,
   "metadata": {},
   "outputs": [
    {
     "name": "stdout",
     "output_type": "stream",
     "text": [
      "z-score -2.2650981396370313\n"
     ]
    }
   ],
   "source": [
    "z=(obs_diff-exp_diff)/std_err\n",
    "print(\"z-score\",z)\n"
   ]
  },
  {
   "cell_type": "markdown",
   "metadata": {},
   "source": [
    "z score is rejected because it lies in  the rejection region \n",
    "\n",
    "\n",
    "Hence the null hypothesis is rejected ( the mean weight of younger basketball players is equal to the older basketball players "
   ]
  },
  {
   "cell_type": "code",
   "execution_count": 135,
   "metadata": {},
   "outputs": [
    {
     "data": {
      "image/png": "[encoded data removed]",
      "text/plain": [
       "<Figure size 432x288 with 1 Axes>"
      ]
     },
     "metadata": {},
     "output_type": "display_data"
    }
   ],
   "source": [
    "nba_sub=np.random.randn(5000)\n",
    "\n",
    "stdn=plt.figure()\n",
    "#add lines to show 95% confidence level\n",
    "plt.hist(nba_sub, bins=100)\n",
    "plt.axvline(x=-1.96,color='r')\n",
    "plt.axvline(x=1.96,color='r')\n",
    "plt.title(\"Confidence interval\")\n",
    "plt.show()\n",
    "stdn.savefig(\"standard_normal for age and weight .png\")"
   ]
  },
  {
   "cell_type": "markdown",
   "metadata": {},
   "source": [
    "# Linear Regression \n",
    "\n",
    "Estimation whether the older basketball  players weigh more thn the younger basketball players or viceversa. "
   ]
  },
  {
   "cell_type": "code",
   "execution_count": 7,
   "metadata": {},
   "outputs": [
    {
     "data": {
      "text/plain": [
       "Text(0,0.5,'Age')"
      ]
     },
     "execution_count": 7,
     "metadata": {},
     "output_type": "execute_result"
    },
    {
     "data": {
      "image/png": "[encoded data removed]",
      "text/plain": [
       "<Figure size 432x288 with 1 Axes>"
      ]
     },
     "metadata": {},
     "output_type": "display_data"
    }
   ],
   "source": [
    "import statsmodels.formula.api as smf\n",
    "Age_Weight_scatter=plt.figure()\n",
    "plt.scatter((nba_sub['Weight']), (nba_sub['Age']))\n",
    "plt.title(\"Weight Vs Age  Scatter\")\n",
    "plt.xlabel(\"Weight\")\n",
    "plt.ylabel(\"Age\")\n",
    "#Age_Weight_scatter.savefig(\"Weight Vs Age Scatter.png\")"
   ]
  },
  {
   "cell_type": "code",
   "execution_count": 8,
   "metadata": {},
   "outputs": [
    {
     "data": {
      "text/html": [
       "<div>\n",
       "<style scoped>\n",
       "    .dataframe tbody tr th:only-of-type {\n",
       "        vertical-align: middle;\n",
       "    }\n",
       "\n",
       "    .dataframe tbody tr th {\n",
       "        vertical-align: top;\n",
       "    }\n",
       "\n",
       "    .dataframe thead th {\n",
       "        text-align: right;\n",
       "    }\n",
       "</style>\n",
       "<table border=\"1\" class=\"dataframe\">\n",
       "  <thead>\n",
       "    <tr style=\"text-align: right;\">\n",
       "      <th></th>\n",
       "      <th>Age</th>\n",
       "      <th>Weight</th>\n",
       "    </tr>\n",
       "  </thead>\n",
       "  <tbody>\n",
       "    <tr>\n",
       "      <th>0</th>\n",
       "      <td>24</td>\n",
       "      <td>190.0</td>\n",
       "    </tr>\n",
       "    <tr>\n",
       "      <th>1</th>\n",
       "      <td>27</td>\n",
       "      <td>240.0</td>\n",
       "    </tr>\n",
       "    <tr>\n",
       "      <th>2</th>\n",
       "      <td>23</td>\n",
       "      <td>209.0</td>\n",
       "    </tr>\n",
       "    <tr>\n",
       "      <th>3</th>\n",
       "      <td>24</td>\n",
       "      <td>255.0</td>\n",
       "    </tr>\n",
       "    <tr>\n",
       "      <th>4</th>\n",
       "      <td>20</td>\n",
       "      <td>255.0</td>\n",
       "    </tr>\n",
       "  </tbody>\n",
       "</table>\n",
       "</div>"
      ],
      "text/plain": [
       "   Age  Weight\n",
       "0   24   190.0\n",
       "1   27   240.0\n",
       "2   23   209.0\n",
       "3   24   255.0\n",
       "4   20   255.0"
      ]
     },
     "execution_count": 8,
     "metadata": {},
     "output_type": "execute_result"
    }
   ],
   "source": [
    "nba_sub= nba_sub[['Age','Weight']].dropna()\n",
    "nba_sub.head()"
   ]
  },
  {
   "cell_type": "code",
   "execution_count": 9,
   "metadata": {},
   "outputs": [
    {
     "data": {
      "text/html": [
       "<table class=\"simpletable\">\n",
       "<caption>OLS Regression Results</caption>\n",
       "<tr>\n",
       "  <th>Dep. Variable:</th>         <td>Weight</td>      <th>  R-squared:         </th> <td>   0.007</td>\n",
       "</tr>\n",
       "<tr>\n",
       "  <th>Model:</th>                   <td>OLS</td>       <th>  Adj. R-squared:    </th> <td>   0.005</td>\n",
       "</tr>\n",
       "<tr>\n",
       "  <th>Method:</th>             <td>Least Squares</td>  <th>  F-statistic:       </th> <td>   4.047</td>\n",
       "</tr>\n",
       "<tr>\n",
       "  <th>Date:</th>             <td>Thu, 07 Jun 2018</td> <th>  Prob (F-statistic):</th>  <td>0.0447</td> \n",
       "</tr>\n",
       "<tr>\n",
       "  <th>Time:</th>                 <td>12:07:45</td>     <th>  Log-Likelihood:    </th> <td> -2785.7</td>\n",
       "</tr>\n",
       "<tr>\n",
       "  <th>No. Observations:</th>      <td>   600</td>      <th>  AIC:               </th> <td>   5575.</td>\n",
       "</tr>\n",
       "<tr>\n",
       "  <th>Df Residuals:</th>          <td>   598</td>      <th>  BIC:               </th> <td>   5584.</td>\n",
       "</tr>\n",
       "<tr>\n",
       "  <th>Df Model:</th>              <td>     1</td>      <th>                     </th>     <td> </td>   \n",
       "</tr>\n",
       "<tr>\n",
       "  <th>Covariance Type:</th>      <td>nonrobust</td>    <th>                     </th>     <td> </td>   \n",
       "</tr>\n",
       "</table>\n",
       "<table class=\"simpletable\">\n",
       "<tr>\n",
       "      <td></td>         <th>coef</th>     <th>std err</th>      <th>t</th>      <th>P>|t|</th>  <th>[0.025</th>    <th>0.975]</th>  \n",
       "</tr>\n",
       "<tr>\n",
       "  <th>Intercept</th> <td>  207.2130</td> <td>    6.205</td> <td>   33.392</td> <td> 0.000</td> <td>  195.026</td> <td>  219.400</td>\n",
       "</tr>\n",
       "<tr>\n",
       "  <th>Age</th>       <td>    0.4561</td> <td>    0.227</td> <td>    2.012</td> <td> 0.045</td> <td>    0.011</td> <td>    0.901</td>\n",
       "</tr>\n",
       "</table>\n",
       "<table class=\"simpletable\">\n",
       "<tr>\n",
       "  <th>Omnibus:</th>       <td>19.562</td> <th>  Durbin-Watson:     </th> <td>   1.961</td>\n",
       "</tr>\n",
       "<tr>\n",
       "  <th>Prob(Omnibus):</th> <td> 0.000</td> <th>  Jarque-Bera (JB):  </th> <td>   9.915</td>\n",
       "</tr>\n",
       "<tr>\n",
       "  <th>Skew:</th>          <td> 0.080</td> <th>  Prob(JB):          </th> <td> 0.00703</td>\n",
       "</tr>\n",
       "<tr>\n",
       "  <th>Kurtosis:</th>      <td> 2.391</td> <th>  Cond. No.          </th> <td>    166.</td>\n",
       "</tr>\n",
       "</table><br/><br/>Warnings:<br/>[1] Standard Errors assume that the covariance matrix of the errors is correctly specified."
      ],
      "text/plain": [
       "<class 'statsmodels.iolib.summary.Summary'>\n",
       "\"\"\"\n",
       "                            OLS Regression Results                            \n",
       "==============================================================================\n",
       "Dep. Variable:                 Weight   R-squared:                       0.007\n",
       "Model:                            OLS   Adj. R-squared:                  0.005\n",
       "Method:                 Least Squares   F-statistic:                     4.047\n",
       "Date:                Thu, 07 Jun 2018   Prob (F-statistic):             0.0447\n",
       "Time:                        12:07:45   Log-Likelihood:                -2785.7\n",
       "No. Observations:                 600   AIC:                             5575.\n",
       "Df Residuals:                     598   BIC:                             5584.\n",
       "Df Model:                           1                                         \n",
       "Covariance Type:            nonrobust                                         \n",
       "==============================================================================\n",
       "                 coef    std err          t      P>|t|      [0.025      0.975]\n",
       "------------------------------------------------------------------------------\n",
       "Intercept    207.2130      6.205     33.392      0.000     195.026     219.400\n",
       "Age            0.4561      0.227      2.012      0.045       0.011       0.901\n",
       "==============================================================================\n",
       "Omnibus:                       19.562   Durbin-Watson:                   1.961\n",
       "Prob(Omnibus):                  0.000   Jarque-Bera (JB):                9.915\n",
       "Skew:                           0.080   Prob(JB):                      0.00703\n",
       "Kurtosis:                       2.391   Cond. No.                         166.\n",
       "==============================================================================\n",
       "\n",
       "Warnings:\n",
       "[1] Standard Errors assume that the covariance matrix of the errors is correctly specified.\n",
       "\"\"\""
      ]
     },
     "execution_count": 9,
     "metadata": {},
     "output_type": "execute_result"
    }
   ],
   "source": [
    "model=smf.ols(formula='(Weight)~ Age', data=nba_sub)\n",
    "est=model.fit()\n",
    "est.summary()"
   ]
  },
  {
   "cell_type": "markdown",
   "metadata": {},
   "source": [
    "The intercept shows the average weight of basketball players is 207.2130 lbs And for every year each players gains above 0.5 pounds\n"
   ]
  },
  {
   "cell_type": "markdown",
   "metadata": {},
   "source": [
    "# conclusion "
   ]
  },
  {
   "cell_type": "markdown",
   "metadata": {},
   "source": [
    "It was challenging to work with Nan values so I learned to wokr with such data, also choosing what kind of data to work with. \n",
    "\n",
    "What was interesting  about my analysis is that each player gains about 0.5 lb on average every year. \n",
    "\n",
    "I got to learn about hypothesis testing, graphing normal distributions, so it was a great experience for me. \n",
    "\n"
   ]
  },
  {
   "cell_type": "code",
   "execution_count": null,
   "metadata": {},
   "outputs": [],
   "source": []
  }
 ],
 "metadata": {
  "kernelspec": {
   "display_name": "Python 3",
   "language": "python",
   "name": "python3"
  },
  "language_info": {
   "codemirror_mode": {
    "name": "ipython",
    "version": 3
   },
   "file_extension": ".py",
   "mimetype": "text/x-python",
   "name": "python",
   "nbconvert_exporter": "python",
   "pygments_lexer": "ipython3",
   "version": "3.6.5"
  }
 },
 "nbformat": 4,
 "nbformat_minor": 2
}

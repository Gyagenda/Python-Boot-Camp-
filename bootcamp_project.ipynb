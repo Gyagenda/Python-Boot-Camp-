{
 "cells": [
  {
   "cell_type": "markdown",
   "metadata": {},
   "source": [
    "#  nba_rosters_2017_18\n",
    "Malcolm J Gyagenda \n",
    "June 06, 20115 "
   ]
  },
  {
   "cell_type": "markdown",
   "metadata": {},
   "source": [
    "# Background \n",
    " I hope to learn how to use set up histograms, scatter plots, and also use simple statistics functions like min, max, standrad deviation in python \n",
    " I also hope to learn how to create and update repositories using data from the National Basketball Association which includes height, weight, team, birht city and jersey number "
   ]
  },
  {
   "cell_type": "markdown",
   "metadata": {},
   "source": [
    "# Data"
   ]
  },
  {
   "cell_type": "markdown",
   "metadata": {},
   "source": [
    "The variables of interest are weight of the player and the age of the player. How the old the player is versus how much they weigh. Do the older players weight more than the younger ones and viceversa"
   ]
  },
  {
   "cell_type": "code",
   "execution_count": 6,
   "metadata": {},
   "outputs": [
    {
     "name": "stdout",
     "output_type": "stream",
     "text": [
      "Series([], dtype: float64)\n",
      "     Player_ID       LastName  FirstName  Jersey_Num Position Height  Weight  \\\n",
      "0        10138        Abrines       Alex         8.0       SG   6'6\"   190.0   \n",
      "1         9466            Acy     Quincy        13.0       PF   6'7\"   240.0   \n",
      "2         9301          Adams     Jordan         3.0       SG   6'5\"   209.0   \n",
      "3         9390          Adams     Steven        12.0        C   7'0\"   255.0   \n",
      "4        13742        Adebayo        Bam        13.0        C  6'10\"   255.0   \n",
      "5         9375        Afflalo      Arron         4.0       SG   6'5\"   210.0   \n",
      "6         9357         Ajinca     Alexis        42.0        C   7'2\"   248.0   \n",
      "7         9272        Aldrich       Cole        45.0        C  6'11\"   253.0   \n",
      "8         9480       Aldridge   LaMarcus        12.0       PF  6'11\"   260.0   \n",
      "9         9299          Allen       Tony        24.0       SF   6'4\"   213.0   \n",
      "10       13776          Allen     Kadeem        45.0       SG   6'3\"   200.0   \n",
      "11       13749          Allen    Jarrett        31.0        C  6'11\"   234.0   \n",
      "12        9254          Allen      Lavoy         5.0       PF   6'9\"   260.0   \n",
      "13        9452          Aminu  Al-Farouq         8.0       PF   6'9\"   220.0   \n",
      "14        9379       Amundson        Lou        17.0       PF   6'9\"   220.0   \n",
      "15        9297       Andersen      Chris         7.0        C    NaN     NaN   \n",
      "16        9178       Anderson     Justin         1.0       SF   6'6\"   230.0   \n",
      "17        9527       Anderson       Alan        26.0       SG   6'6\"   220.0   \n",
      "18        9469       Anderson      James         5.0       SG   6'6\"   213.0   \n",
      "19        9353       Anderson       Ryan        33.0       PF  6'10\"   240.0   \n",
      "20        9475       Anderson       Kyle         1.0       SF   6'9\"   230.0   \n",
      "21       13796       Anigbogu        Ike        13.0        C  6'10\"   262.0   \n",
      "22        9560  Antetokounmpo   Thanasis        43.0       SF    NaN     NaN   \n",
      "23        9325  Antetokounmpo    Giannis        34.0       SF  6'11\"   222.0   \n",
      "24        9214        Anthony       Joel        50.0        C   6'9\"   245.0   \n",
      "25        9369        Anthony    Carmelo         7.0       PF   6'8\"   240.0   \n",
      "26       13750        Anunoby         OG         3.0       SF   6'8\"   235.0   \n",
      "27        9559        Appling      Keith         NaN       PG    NaN     NaN   \n",
      "28       11884    Arcidiacono       Ryan        10.0        G   6'3\"   195.0   \n",
      "29        9235          Ariza     Trevor         1.0       SF   6'8\"   215.0   \n",
      "..         ...            ...        ...         ...      ...    ...     ...   \n",
      "694      11973       Williams       C.J.         9.0       SG   6'5\"   230.0   \n",
      "695       9134       Williams     Marvin         2.0       PF   6'9\"   237.0   \n",
      "696       9184       Williams      Deron         8.0       PG   6'3\"   200.0   \n",
      "697       9287       Williams        Lou        23.0       SG   6'1\"   175.0   \n",
      "698       9441       Williams       Alan        15.0       PF   6'8\"   265.0   \n",
      "699      11546       Williams     Reggie         5.0        F    NaN     NaN   \n",
      "700      13801   Williams Jr.       Matt        12.0       SG    NaN     NaN   \n",
      "701      13745         Wilson      D. J.         5.0       PF  6'10\"   236.0   \n",
      "702      13859         Wilson      Jamil        13.0       PF    NaN     NaN   \n",
      "703      10148        Wiltjer       Kyle        30.0        F  6'10\"   240.0   \n",
      "704       9313        Winslow    Justise        20.0       SF   6'7\"   225.0   \n",
      "705       9516         Withey       Jeff        17.0        C    NaN     NaN   \n",
      "706      11897        Wolters       Nate         NaN       PG    NaN     NaN   \n",
      "707       9427           Wood  Christian        35.0       PF  6'11\"   220.0   \n",
      "708       9291    World Peace      Metta        37.0       SF   6'7\"   260.0   \n",
      "709       9304         Wright    Brandan        34.0        C  6'10\"   235.0   \n",
      "710       9495         Wright      Delon        55.0       PG   6'5\"   190.0   \n",
      "711      13778       Yabusele  Guerschon        30.0       PF   6'8\"   260.0   \n",
      "712       9103          Young      James         6.0       SG   6'6\"   215.0   \n",
      "713       9119          Young   Thaddeus        21.0       PF   6'8\"   230.0   \n",
      "714      13808          Young    Michael         4.0        F    NaN     NaN   \n",
      "715       9260          Young        Joe         3.0       PG   6'2\"   185.0   \n",
      "716       9280          Young       Nick         6.0       SG   6'7\"   210.0   \n",
      "717       9099         Zeller      Tyler        44.0        C   7'0\"   250.0   \n",
      "718       9130         Zeller       Cody        40.0        C   7'0\"   240.0   \n",
      "719      13767           Zhou         Qi         9.0       PF   7'1\"   210.0   \n",
      "720      10163      Zimmerman    Stephen        33.0        C   7'0\"   240.0   \n",
      "721      10158         Zipser       Paul        16.0       SF   6'8\"   226.0   \n",
      "722      13779          Zizic       Ante        41.0        C  6'11\"   250.0   \n",
      "723      10169          Zubac      Ivica        40.0        C   7'1\"   240.0   \n",
      "\n",
      "     Birth_Date  Age          Birth_City           Birth_Country Rookie  \\\n",
      "0      8/1/1993   24   Palma de Mallorca                   Spain      N   \n",
      "1     10/6/1990   27           Tyler, TX                     USA      N   \n",
      "2      7/8/1994   23         Atlanta, GA                     USA      N   \n",
      "3     7/20/1993   24             Rotorua             New Zealand      N   \n",
      "4     7/18/1997   20          Newark, NJ                     USA      Y   \n",
      "5    10/15/1985   32     Los Angeles, CA                     USA      N   \n",
      "6      5/6/1988   30       Saint-Etienne                  France      N   \n",
      "7    10/31/1988   29      Burnsville, MN                     USA      N   \n",
      "8     7/19/1985   32          Dallas, TX                     USA      N   \n",
      "9     1/10/1982   36         Chicago, IL                     USA      N   \n",
      "10    1/13/1993   25      Wilmington, NC                     USA      Y   \n",
      "11    4/21/1998   20          Austin, TX                     USA      Y   \n",
      "12     2/4/1989   29     Morrisville, PA                     USA      N   \n",
      "13    9/21/1990   27         Atlanta, GA                     USA      N   \n",
      "14    12/7/1982   35         Ventura, CA                     USA      N   \n",
      "15     7/7/1978   39      Long Beach, CA                     USA      N   \n",
      "16   11/19/1993   24        Montross, VA                     USA      N   \n",
      "17   10/16/1982   35     Minneapolis, MN                     USA      N   \n",
      "18    3/25/1989   29       El Dorado, AR                     USA      N   \n",
      "19     5/6/1988   30      Sacramento, CA                     USA      N   \n",
      "20    9/20/1993   24        New York, NY                     USA      N   \n",
      "21   10/16/1998   19       San Diego, CA                     USA      Y   \n",
      "22    7/18/1992   25              Athens                  Greece      N   \n",
      "23    12/6/1994   23              Athens                  Greece      N   \n",
      "24     8/9/1982   35            Montreal                  Canada      N   \n",
      "25    5/29/1984   34        New York, NY                     USA      N   \n",
      "26    7/17/1997   20              London          United Kingdom      Y   \n",
      "27    2/13/1992   26         Detroit, MI                     USA      N   \n",
      "28    3/26/1994   24       Langhorne, PA                     USA      Y   \n",
      "29    6/30/1985   32           Miami, FL                     USA      N   \n",
      "..          ...  ...                 ...                     ...    ...   \n",
      "694    2/6/1990   28    Fayetteville, NC                     USA      N   \n",
      "695   6/19/1986   31       Bremerton, WA                     USA      N   \n",
      "696   6/26/1984   33     Parkersburg, WV                     USA      N   \n",
      "697  10/27/1986   31         Memphis, TN                     USA      N   \n",
      "698   1/28/1993   25         Phoenix, AZ                     USA      N   \n",
      "699   9/14/1986   31   Prince George, VA                     USA      N   \n",
      "700  10/14/1993   24         Orlando, FL                     USA      Y   \n",
      "701   2/19/1996   22      Mt. Shasta, CA                     USA      Y   \n",
      "702  11/21/1990   27       Milwaukee, WI                     USA      Y   \n",
      "703  10/18/1992   25        Portland, OR                     USA      N   \n",
      "704   3/26/1996   22         Houston, TX                     USA      N   \n",
      "705    3/7/1990   28       San Diego, CA                     USA      N   \n",
      "706   5/15/1991   27       St. Cloud, MN                     USA      N   \n",
      "707   9/27/1995   22      Long Beach, CA                     USA      N   \n",
      "708  11/13/1979   38                 NaN                     NaN      N   \n",
      "709   10/2/1987   30       Nashville, TN                     USA      N   \n",
      "710   4/26/1992   26     Los Angeles, CA                     USA      N   \n",
      "711  12/17/1995   22               Dreux                  France      Y   \n",
      "712   8/16/1995   22           Flint, MI                     USA      N   \n",
      "713   6/21/1988   29     New Orleans, LA                     USA      N   \n",
      "714    9/5/1994   23      Pittsburgh, PA                     USA      Y   \n",
      "715   6/27/1992   25         Houston, TX                     USA      N   \n",
      "716    6/1/1985   33     Los Angeles, CA                     USA      N   \n",
      "717   1/16/1990   28         Visalia, CA                     USA      N   \n",
      "718   10/5/1992   25      Washington, IN                     USA      N   \n",
      "719   1/13/1996   22                 NaN                     NaN      Y   \n",
      "720    9/9/1996   21  Hendersonville, TN                     USA      N   \n",
      "721   2/18/1994   24          Heidelberg                 Germany      N   \n",
      "722    1/3/1997   21               Split                 Croatia      Y   \n",
      "723   3/18/1997   21              Mostar  Bosnia and Herzegovina      N   \n",
      "\n",
      "     Team_ID Team_Abbr.      Team_City      Team_Name  \n",
      "0       96.0        OKL  Oklahoma City        Thunder  \n",
      "1       84.0        BRO       Brooklyn           Nets  \n",
      "2        NaN        NaN            NaN            NaN  \n",
      "3       96.0        OKL  Oklahoma City        Thunder  \n",
      "4       92.0        MIA          Miami           Heat  \n",
      "5       95.0        ORL        Orlando          Magic  \n",
      "6      110.0        NOP    New Orleans       Pelicans  \n",
      "7      100.0        MIN      Minnesota   Timberwolves  \n",
      "8      106.0        SAS    San Antonio          Spurs  \n",
      "9       89.0        CHI        Chicago          Bulls  \n",
      "10      82.0        BOS         Boston        Celtics  \n",
      "11      84.0        BRO       Brooklyn           Nets  \n",
      "12       NaN        NaN            NaN            NaN  \n",
      "13      97.0        POR       Portland  Trail Blazers  \n",
      "14       NaN        NaN            NaN            NaN  \n",
      "15       NaN        NaN            NaN            NaN  \n",
      "16      85.0        PHI   Philadelphia          76ers  \n",
      "17     102.0        LAC    Los Angeles       Clippers  \n",
      "18       NaN        NaN            NaN            NaN  \n",
      "19     109.0        HOU        Houston        Rockets  \n",
      "20     106.0        SAS    San Antonio          Spurs  \n",
      "21      87.0        IND        Indiana         Pacers  \n",
      "22       NaN        NaN            NaN            NaN  \n",
      "23      90.0        MIL      Milwaukee          Bucks  \n",
      "24       NaN        NaN            NaN            NaN  \n",
      "25      96.0        OKL  Oklahoma City        Thunder  \n",
      "26      81.0        TOR        Toronto        Raptors  \n",
      "27       NaN        NaN            NaN            NaN  \n",
      "28      89.0        CHI        Chicago          Bulls  \n",
      "29     109.0        HOU        Houston        Rockets  \n",
      "..       ...        ...            ...            ...  \n",
      "694    102.0        LAC    Los Angeles       Clippers  \n",
      "695     93.0        CHA      Charlotte        Hornets  \n",
      "696      NaN        NaN            NaN            NaN  \n",
      "697    102.0        LAC    Los Angeles       Clippers  \n",
      "698    104.0        PHX        Phoenix           Suns  \n",
      "699      NaN        NaN            NaN            NaN  \n",
      "700     92.0        MIA          Miami           Heat  \n",
      "701     90.0        MIL      Milwaukee          Bucks  \n",
      "702    102.0        LAC    Los Angeles       Clippers  \n",
      "703    109.0        HOU        Houston        Rockets  \n",
      "704     92.0        MIA          Miami           Heat  \n",
      "705    108.0        DAL         Dallas      Mavericks  \n",
      "706     98.0        UTA           Utah           Jazz  \n",
      "707     93.0        CHA      Charlotte        Hornets  \n",
      "708      NaN        NaN            NaN            NaN  \n",
      "709    109.0        HOU        Houston        Rockets  \n",
      "710     81.0        TOR        Toronto        Raptors  \n",
      "711     82.0        BOS         Boston        Celtics  \n",
      "712     85.0        PHI   Philadelphia          76ers  \n",
      "713     87.0        IND        Indiana         Pacers  \n",
      "714     94.0        WAS     Washington        Wizards  \n",
      "715     87.0        IND        Indiana         Pacers  \n",
      "716    101.0        GSW   Golden State       Warriors  \n",
      "717     90.0        MIL      Milwaukee          Bucks  \n",
      "718     93.0        CHA      Charlotte        Hornets  \n",
      "719    109.0        HOU        Houston        Rockets  \n",
      "720    105.0        LAL    Los Angeles         Lakers  \n",
      "721     89.0        CHI        Chicago          Bulls  \n",
      "722     86.0        CLE      Cleveland      Cavaliers  \n",
      "723    105.0        LAL    Los Angeles         Lakers  \n",
      "\n",
      "[724 rows x 16 columns]\n"
     ]
    }
   ],
   "source": [
    "import pandas as pd \n",
    "import numpy as np \n",
    "\n",
    "s=pd.Series()\n",
    "print(s)\n",
    "nba=pd.read_csv(\"nba_rosters_2017_18.csv\")\n",
    "print(nba)"
   ]
  },
  {
   "cell_type": "code",
   "execution_count": 7,
   "metadata": {},
   "outputs": [
    {
     "name": "stdout",
     "output_type": "stream",
     "text": [
      "     Player_ID   LastName FirstName  Jersey_Num Position Height  Weight  \\\n",
      "600       9241      Smith      Josh         5.0       PF    NaN     NaN   \n",
      "601       9411      Smith     Jason        14.0       PF   7'0\"   240.0   \n",
      "602       9350      Smith      Greg         4.0       PF  6'10\"   250.0   \n",
      "603       9542      Smith      Russ         NaN       PG    NaN     NaN   \n",
      "604       9167      Smith      J.R.         5.0       SG   6'6\"   225.0   \n",
      "605      13736  Smith Jr.    Dennis         1.0       PG   6'3\"   195.0   \n",
      "606       9145      Snell      Tony        21.0       SG   6'7\"   221.0   \n",
      "607      13879     Snyder      Quin         NaN        C    NaN     NaN   \n",
      "608       9225   Speights  Marreese         5.0        C  6'10\"   255.0   \n",
      "609       9090   Splitter     Tiago        11.0        C  6'11\"   245.0   \n",
      "\n",
      "     Birth_Date  Age          Birth_City Birth_Country Rookie  Team_ID  \\\n",
      "600   12/5/1985   32    College Park, GA           USA      N    110.0   \n",
      "601    3/2/1986   32         Greeley, CO           USA      N     94.0   \n",
      "602    1/8/1991   27         Vallejo, CA           USA      N      NaN   \n",
      "603   4/19/1991   27        New York, NY           USA      N      NaN   \n",
      "604    9/9/1985   32        Freehold, NJ           USA      N     86.0   \n",
      "605  11/25/1997   20    Fayetteville, NC           USA      Y    108.0   \n",
      "606  11/10/1991   26       Riverside, CA           USA      N     90.0   \n",
      "607   1/26/2018    0                 NaN           NaN      N     98.0   \n",
      "608    8/4/1987   30  St. Petersburg, FL           USA      N     95.0   \n",
      "609    1/1/1985   33           Joinville        Brazil      N      NaN   \n",
      "\n",
      "    Team_Abbr.    Team_City  Team_Name  \n",
      "600        NOP  New Orleans   Pelicans  \n",
      "601        WAS   Washington    Wizards  \n",
      "602        NaN          NaN        NaN  \n",
      "603        NaN          NaN        NaN  \n",
      "604        CLE    Cleveland  Cavaliers  \n",
      "605        DAL       Dallas  Mavericks  \n",
      "606        MIL    Milwaukee      Bucks  \n",
      "607        UTA         Utah       Jazz  \n",
      "608        ORL      Orlando      Magic  \n",
      "609        NaN          NaN        NaN  \n"
     ]
    }
   ],
   "source": [
    "print(nba[600:610])"
   ]
  },
  {
   "cell_type": "code",
   "execution_count": 21,
   "metadata": {},
   "outputs": [
    {
     "name": "stdout",
     "output_type": "stream",
     "text": [
      "600      NaN\n",
      "601    240.0\n",
      "602    250.0\n",
      "603      NaN\n",
      "604    225.0\n",
      "605    195.0\n",
      "606    221.0\n",
      "607      NaN\n",
      "608    255.0\n",
      "609    245.0\n",
      "Name: Weight, dtype: float64\n",
      "600    32\n",
      "601    32\n",
      "602    27\n",
      "603    27\n",
      "604    32\n",
      "605    20\n",
      "606    26\n",
      "607     0\n",
      "608    30\n",
      "609    33\n",
      "Name: Age, dtype: int64\n"
     ]
    }
   ],
   "source": [
    "print(nba[\"Weight\"][600:610])\n",
    "print(nba[\"Age\"][600:610]) "
   ]
  },
  {
   "cell_type": "markdown",
   "metadata": {},
   "source": [
    "# Summary statistics for Age  "
   ]
  },
  {
   "cell_type": "code",
   "execution_count": 22,
   "metadata": {},
   "outputs": [
    {
     "name": "stdout",
     "output_type": "stream",
     "text": [
      "count    10.000000\n",
      "mean     25.900000\n",
      "std       9.926955\n",
      "min       0.000000\n",
      "25%      26.250000\n",
      "50%      28.500000\n",
      "75%      32.000000\n",
      "max      33.000000\n",
      "Name: Age, dtype: float64\n"
     ]
    }
   ],
   "source": [
    "print(nba[\"Age\"][600:610].describe())"
   ]
  },
  {
   "cell_type": "markdown",
   "metadata": {},
   "source": [
    "# Summary Statistics for Weight "
   ]
  },
  {
   "cell_type": "code",
   "execution_count": 30,
   "metadata": {},
   "outputs": [
    {
     "name": "stdout",
     "output_type": "stream",
     "text": [
      "count      7.000000\n",
      "mean     233.000000\n",
      "std       20.888593\n",
      "min      195.000000\n",
      "25%      223.000000\n",
      "50%      240.000000\n",
      "75%      247.500000\n",
      "max      255.000000\n",
      "Name: Weight, dtype: float64\n"
     ]
    }
   ],
   "source": [
    "print(nba[\"Weight\"][600:610].describe())"
   ]
  },
  {
   "cell_type": "code",
   "execution_count": 54,
   "metadata": {},
   "outputs": [
    {
     "name": "stdout",
     "output_type": "stream",
     "text": [
      "<class 'pandas.core.series.Series'>\n",
      "3\n"
     ]
    }
   ],
   "source": [
    "print(type(Weight))\n",
    "#Weight=(nba[\"Weight\"][600:610])\n",
    "print(sum(Weight.isnull()))\n"
   ]
  },
  {
   "cell_type": "code",
   "execution_count": 29,
   "metadata": {},
   "outputs": [
    {
     "name": "stdout",
     "output_type": "stream",
     "text": [
      "0\n"
     ]
    }
   ],
   "source": [
    "Age=(nba[\"Age\"][600:610])\n",
    "print(sum(Age.isnull()))"
   ]
  },
  {
   "cell_type": "code",
   "execution_count": 51,
   "metadata": {
    "scrolled": true
   },
   "outputs": [
    {
     "data": {
      "text/plain": [
       "(array([  2.,  18.,  83., 201., 271., 245., 136.,  37.,   5.,   2.]),\n",
       " array([-3.40398576, -2.6936193 , -1.98325284, -1.27288637, -0.56251991,\n",
       "         0.14784655,  0.85821301,  1.56857947,  2.27894594,  2.9893124 ,\n",
       "         3.69967886]),\n",
       " <a list of 10 Patch objects>)"
      ]
     },
     "execution_count": 51,
     "metadata": {},
     "output_type": "execute_result"
    },
    {
     "data": {
      "image/png": "[encoded data removed]",
      "text/plain": [
       "<Figure size 432x288 with 1 Axes>"
      ]
     },
     "metadata": {},
     "output_type": "display_data"
    }
   ],
   "source": [
    "import numpy as np \n",
    "import pandas as pd\n",
    "import matplotlib as mpl\n",
    "import matplotlib.pyplot as plt\n",
    "\n",
    "plt.hist(Age)\n",
    "\n"
   ]
  },
  {
   "cell_type": "code",
   "execution_count": 48,
   "metadata": {},
   "outputs": [
    {
     "ename": "ValueError",
     "evalue": "x and y must be the same size",
     "output_type": "error",
     "traceback": [
      "\u001b[1;31m---------------------------------------------------------------------------\u001b[0m",
      "\u001b[1;31mValueError\u001b[0m                                Traceback (most recent call last)",
      "\u001b[1;32m<ipython-input-48-39ec7e3e427a>\u001b[0m in \u001b[0;36m<module>\u001b[1;34m()\u001b[0m\n\u001b[0;32m      1\u001b[0m \u001b[0mfig2\u001b[0m\u001b[1;33m=\u001b[0m\u001b[0mplt\u001b[0m\u001b[1;33m.\u001b[0m\u001b[0mfigure\u001b[0m\u001b[1;33m(\u001b[0m\u001b[1;33m)\u001b[0m\u001b[1;33m\u001b[0m\u001b[0m\n\u001b[1;32m----> 2\u001b[1;33m \u001b[0mplt\u001b[0m\u001b[1;33m.\u001b[0m\u001b[0mscatter\u001b[0m\u001b[1;33m(\u001b[0m\u001b[0mAge\u001b[0m\u001b[1;33m,\u001b[0m\u001b[0mWeight\u001b[0m\u001b[1;33m)\u001b[0m\u001b[1;33m\u001b[0m\u001b[0m\n\u001b[0m\u001b[0;32m      3\u001b[0m \u001b[0mplt\u001b[0m\u001b[1;33m.\u001b[0m\u001b[0mshow\u001b[0m\u001b[1;33m(\u001b[0m\u001b[1;33m)\u001b[0m\u001b[1;33m\u001b[0m\u001b[0m\n",
      "\u001b[1;32m~\\Newfolder\\lib\\site-packages\\matplotlib\\pyplot.py\u001b[0m in \u001b[0;36mscatter\u001b[1;34m(x, y, s, c, marker, cmap, norm, vmin, vmax, alpha, linewidths, verts, edgecolors, hold, data, **kwargs)\u001b[0m\n\u001b[0;32m   3468\u001b[0m                          \u001b[0mvmin\u001b[0m\u001b[1;33m=\u001b[0m\u001b[0mvmin\u001b[0m\u001b[1;33m,\u001b[0m \u001b[0mvmax\u001b[0m\u001b[1;33m=\u001b[0m\u001b[0mvmax\u001b[0m\u001b[1;33m,\u001b[0m \u001b[0malpha\u001b[0m\u001b[1;33m=\u001b[0m\u001b[0malpha\u001b[0m\u001b[1;33m,\u001b[0m\u001b[1;33m\u001b[0m\u001b[0m\n\u001b[0;32m   3469\u001b[0m                          \u001b[0mlinewidths\u001b[0m\u001b[1;33m=\u001b[0m\u001b[0mlinewidths\u001b[0m\u001b[1;33m,\u001b[0m \u001b[0mverts\u001b[0m\u001b[1;33m=\u001b[0m\u001b[0mverts\u001b[0m\u001b[1;33m,\u001b[0m\u001b[1;33m\u001b[0m\u001b[0m\n\u001b[1;32m-> 3470\u001b[1;33m                          edgecolors=edgecolors, data=data, **kwargs)\n\u001b[0m\u001b[0;32m   3471\u001b[0m     \u001b[1;32mfinally\u001b[0m\u001b[1;33m:\u001b[0m\u001b[1;33m\u001b[0m\u001b[0m\n\u001b[0;32m   3472\u001b[0m         \u001b[0max\u001b[0m\u001b[1;33m.\u001b[0m\u001b[0m_hold\u001b[0m \u001b[1;33m=\u001b[0m \u001b[0mwashold\u001b[0m\u001b[1;33m\u001b[0m\u001b[0m\n",
      "\u001b[1;32m~\\Newfolder\\lib\\site-packages\\matplotlib\\__init__.py\u001b[0m in \u001b[0;36minner\u001b[1;34m(ax, *args, **kwargs)\u001b[0m\n\u001b[0;32m   1853\u001b[0m                         \u001b[1;34m\"the Matplotlib list!)\"\u001b[0m \u001b[1;33m%\u001b[0m \u001b[1;33m(\u001b[0m\u001b[0mlabel_namer\u001b[0m\u001b[1;33m,\u001b[0m \u001b[0mfunc\u001b[0m\u001b[1;33m.\u001b[0m\u001b[0m__name__\u001b[0m\u001b[1;33m)\u001b[0m\u001b[1;33m,\u001b[0m\u001b[1;33m\u001b[0m\u001b[0m\n\u001b[0;32m   1854\u001b[0m                         RuntimeWarning, stacklevel=2)\n\u001b[1;32m-> 1855\u001b[1;33m             \u001b[1;32mreturn\u001b[0m \u001b[0mfunc\u001b[0m\u001b[1;33m(\u001b[0m\u001b[0max\u001b[0m\u001b[1;33m,\u001b[0m \u001b[1;33m*\u001b[0m\u001b[0margs\u001b[0m\u001b[1;33m,\u001b[0m \u001b[1;33m**\u001b[0m\u001b[0mkwargs\u001b[0m\u001b[1;33m)\u001b[0m\u001b[1;33m\u001b[0m\u001b[0m\n\u001b[0m\u001b[0;32m   1856\u001b[0m \u001b[1;33m\u001b[0m\u001b[0m\n\u001b[0;32m   1857\u001b[0m         inner.__doc__ = _add_data_doc(inner.__doc__,\n",
      "\u001b[1;32m~\\Newfolder\\lib\\site-packages\\matplotlib\\axes\\_axes.py\u001b[0m in \u001b[0;36mscatter\u001b[1;34m(self, x, y, s, c, marker, cmap, norm, vmin, vmax, alpha, linewidths, verts, edgecolors, **kwargs)\u001b[0m\n\u001b[0;32m   4241\u001b[0m         \u001b[0my\u001b[0m \u001b[1;33m=\u001b[0m \u001b[0mnp\u001b[0m\u001b[1;33m.\u001b[0m\u001b[0mma\u001b[0m\u001b[1;33m.\u001b[0m\u001b[0mravel\u001b[0m\u001b[1;33m(\u001b[0m\u001b[0my\u001b[0m\u001b[1;33m)\u001b[0m\u001b[1;33m\u001b[0m\u001b[0m\n\u001b[0;32m   4242\u001b[0m         \u001b[1;32mif\u001b[0m \u001b[0mx\u001b[0m\u001b[1;33m.\u001b[0m\u001b[0msize\u001b[0m \u001b[1;33m!=\u001b[0m \u001b[0my\u001b[0m\u001b[1;33m.\u001b[0m\u001b[0msize\u001b[0m\u001b[1;33m:\u001b[0m\u001b[1;33m\u001b[0m\u001b[0m\n\u001b[1;32m-> 4243\u001b[1;33m             \u001b[1;32mraise\u001b[0m \u001b[0mValueError\u001b[0m\u001b[1;33m(\u001b[0m\u001b[1;34m\"x and y must be the same size\"\u001b[0m\u001b[1;33m)\u001b[0m\u001b[1;33m\u001b[0m\u001b[0m\n\u001b[0m\u001b[0;32m   4244\u001b[0m \u001b[1;33m\u001b[0m\u001b[0m\n\u001b[0;32m   4245\u001b[0m         \u001b[1;32mif\u001b[0m \u001b[0ms\u001b[0m \u001b[1;32mis\u001b[0m \u001b[1;32mNone\u001b[0m\u001b[1;33m:\u001b[0m\u001b[1;33m\u001b[0m\u001b[0m\n",
      "\u001b[1;31mValueError\u001b[0m: x and y must be the same size"
     ]
    },
    {
     "data": {
      "image/png": "[encoded data removed]",
      "text/plain": [
       "<Figure size 432x288 with 1 Axes>"
      ]
     },
     "metadata": {},
     "output_type": "display_data"
    }
   ],
   "source": [
    "fig2=plt.figure()\n",
    "plt.scatter(Age,Weight)\n",
    "plt.show()"
   ]
  },
  {
   "cell_type": "code",
   "execution_count": null,
   "metadata": {},
   "outputs": [],
   "source": []
  }
 ],
 "metadata": {
  "kernelspec": {
   "display_name": "Python 3",
   "language": "python",
   "name": "python3"
  },
  "language_info": {
   "codemirror_mode": {
    "name": "ipython",
    "version": 3
   },
   "file_extension": ".py",
   "mimetype": "text/x-python",
   "name": "python",
   "nbconvert_exporter": "python",
   "pygments_lexer": "ipython3",
   "version": "3.6.5"
  }
 },
 "nbformat": 4,
 "nbformat_minor": 2
}
